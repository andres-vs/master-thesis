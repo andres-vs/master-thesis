{
 "cells": [
  {
   "cell_type": "code",
   "execution_count": 2,
   "id": "c6dd2cce",
   "metadata": {},
   "outputs": [
    {
     "name": "stderr",
     "output_type": "stream",
     "text": [
      "\u001b[34m\u001b[1mwandb\u001b[0m: Using wandb-core as the SDK backend.  Please refer to https://wandb.me/wandb-core for more information.\n",
      "\u001b[34m\u001b[1mwandb\u001b[0m: Currently logged in as: \u001b[33mandresvanschel\u001b[0m to \u001b[32mhttps://api.wandb.ai\u001b[0m. Use \u001b[1m`wandb login --relogin`\u001b[0m to force relogin\n"
     ]
    },
    {
     "data": {
      "text/html": [
       "Waiting for wandb.init()..."
      ],
      "text/plain": [
       "<IPython.core.display.HTML object>"
      ]
     },
     "metadata": {},
     "output_type": "display_data"
    },
    {
     "data": {
      "text/html": [
       "Tracking run with wandb version 0.19.9"
      ],
      "text/plain": [
       "<IPython.core.display.HTML object>"
      ]
     },
     "metadata": {},
     "output_type": "display_data"
    },
    {
     "data": {
      "text/html": [
       "Run data is saved locally in <code>c:\\Users\\andre\\Documents\\School\\Hoger\\Masterproef\\Code\\master-thesis\\Data prepping and analysis\\wandb\\run-20250423_150019-emnyrllc</code>"
      ],
      "text/plain": [
       "<IPython.core.display.HTML object>"
      ]
     },
     "metadata": {},
     "output_type": "display_data"
    },
    {
     "data": {
      "text/html": [
       "Syncing run <strong><a href='https://wandb.ai/andresvanschel/master_thesis/runs/emnyrllc' target=\"_blank\">finetuning_BERT_test_accuracy_bar_chart</a></strong> to <a href='https://wandb.ai/andresvanschel/master_thesis' target=\"_blank\">Weights & Biases</a> (<a href='https://wandb.me/developer-guide' target=\"_blank\">docs</a>)<br>"
      ],
      "text/plain": [
       "<IPython.core.display.HTML object>"
      ]
     },
     "metadata": {},
     "output_type": "display_data"
    },
    {
     "data": {
      "text/html": [
       " View project at <a href='https://wandb.ai/andresvanschel/master_thesis' target=\"_blank\">https://wandb.ai/andresvanschel/master_thesis</a>"
      ],
      "text/plain": [
       "<IPython.core.display.HTML object>"
      ]
     },
     "metadata": {},
     "output_type": "display_data"
    },
    {
     "data": {
      "text/html": [
       " View run at <a href='https://wandb.ai/andresvanschel/master_thesis/runs/emnyrllc' target=\"_blank\">https://wandb.ai/andresvanschel/master_thesis/runs/emnyrllc</a>"
      ],
      "text/plain": [
       "<IPython.core.display.HTML object>"
      ]
     },
     "metadata": {},
     "output_type": "display_data"
    },
    {
     "name": "stderr",
     "output_type": "stream",
     "text": [
      "\u001b[34m\u001b[1mwandb\u001b[0m: \u001b[32m\u001b[41mERROR\u001b[0m The nbformat package was not found. It is required to save notebook history.\n"
     ]
    },
    {
     "data": {
      "text/html": [],
      "text/plain": [
       "<IPython.core.display.HTML object>"
      ]
     },
     "metadata": {},
     "output_type": "display_data"
    },
    {
     "data": {
      "text/html": [
       " View run <strong style=\"color:#cdcd00\">finetuning_BERT_test_accuracy_bar_chart</strong> at: <a href='https://wandb.ai/andresvanschel/master_thesis/runs/emnyrllc' target=\"_blank\">https://wandb.ai/andresvanschel/master_thesis/runs/emnyrllc</a><br> View project at: <a href='https://wandb.ai/andresvanschel/master_thesis' target=\"_blank\">https://wandb.ai/andresvanschel/master_thesis</a><br>Synced 5 W&B file(s), 1 media file(s), 2 artifact file(s) and 0 other file(s)"
      ],
      "text/plain": [
       "<IPython.core.display.HTML object>"
      ]
     },
     "metadata": {},
     "output_type": "display_data"
    },
    {
     "data": {
      "text/html": [
       "Find logs at: <code>.\\wandb\\run-20250423_150019-emnyrllc\\logs</code>"
      ],
      "text/plain": [
       "<IPython.core.display.HTML object>"
      ]
     },
     "metadata": {},
     "output_type": "display_data"
    }
   ],
   "source": [
    "import wandb\n",
    "\n",
    "# List of run paths and corresponding labels\n",
    "run_paths = [\n",
    "    \"andresvanschel/bert-base-uncased-finetuned_Att-Noneg-depth0/yl7ozblr\",\n",
    "    \"andresvanschel/bert-base-uncased-finetuned_Att-Noneg-depth1/gxw2p27p\",\n",
    "    \"andresvanschel/bert-base-uncased-finetuned_Att-Noneg-depth2/3zsbpkut\",\n",
    "]\n",
    "labels = [\"depth-0\", \"depth-1\", \"depth-2\"]  # Custom labels for each run\n",
    "colors = [\"#A1A9AD\", \"#479A5F\", \"#5387DD\"]  # Custom colors for each depth\n",
    "\n",
    "# Initialize lists to store labels and accuracy values\n",
    "accuracies = []\n",
    "\n",
    "# Extract test/accuracy summary values\n",
    "for run_path in run_paths:\n",
    "    api = wandb.Api()\n",
    "    run = api.run(run_path)\n",
    "    accuracies.append(run.summary.get(\"test/accuracy\", None))\n",
    "\n",
    "# Create a wandb.Table to store the data\n",
    "data_table = wandb.Table(data=list(zip(labels, accuracies, colors)), columns=[\"Depth\", \"Test Accuracy\", \"Color\"])\n",
    "\n",
    "# Use wandb.plot.bar to create the bar chart with custom colors\n",
    "bar_chart = wandb.plot.bar(\n",
    "    data_table,\n",
    "    \"Depth\",\n",
    "    \"Test Accuracy\",\n",
    "    title=\"Test Accuracy for Different Depths\",\n",
    "    # color=\"Color\"  # Specify the color column for custom colors\n",
    ")\n",
    "\n",
    "# Log the chart to a wandb run\n",
    "with wandb.init(project=\"master_thesis\", name=\"finetuning_BERT_test_accuracy_bar_chart\") as run:\n",
    "    run.log({\"test_accuracy_bar_chart\": bar_chart})"
   ]
  }
 ],
 "metadata": {
  "kernelspec": {
   "display_name": "Python 3",
   "language": "python",
   "name": "python3"
  },
  "language_info": {
   "codemirror_mode": {
    "name": "ipython",
    "version": 3
   },
   "file_extension": ".py",
   "mimetype": "text/x-python",
   "name": "python",
   "nbconvert_exporter": "python",
   "pygments_lexer": "ipython3",
   "version": "3.9.20"
  }
 },
 "nbformat": 4,
 "nbformat_minor": 5
}
