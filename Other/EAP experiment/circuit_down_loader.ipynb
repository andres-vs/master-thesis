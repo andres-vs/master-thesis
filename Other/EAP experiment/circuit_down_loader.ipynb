{
 "cells": [
  {
   "cell_type": "code",
   "execution_count": 1,
   "id": "74253f6c",
   "metadata": {},
   "outputs": [],
   "source": [
    "import wandb"
   ]
  },
  {
   "cell_type": "code",
   "execution_count": 2,
   "id": "c070b991",
   "metadata": {},
   "outputs": [
    {
     "name": "stdout",
     "output_type": "stream",
     "text": [
      "Found 68 runs with correct_metric_sign=True\n"
     ]
    }
   ],
   "source": [
    "# Fetch runs from the specified project where correct_metric_sign is True\n",
    "entity = \"andresvanschel\"\n",
    "project = \"eap\"\n",
    "api = wandb.Api()\n",
    "runs = api.runs(f\"{entity}/{project}\", {\"config.correct_metric_sign\": True})\n",
    "print(f\"Found {len(runs)} runs with correct_metric_sign=True\")"
   ]
  },
  {
   "cell_type": "code",
   "execution_count": 5,
   "id": "8b7a276d",
   "metadata": {},
   "outputs": [],
   "source": [
    "MODEL_DEPTH = 1\n",
    "PROOF_DEPTH = None\n",
    "PROOF_STRATEGY = \"all\"\n",
    "ATTR_ABSOLUTE_VAL = True"
   ]
  },
  {
   "cell_type": "code",
   "execution_count": 6,
   "id": "db78285e",
   "metadata": {},
   "outputs": [
    {
     "name": "stdout",
     "output_type": "stream",
     "text": [
      "Filtered N=10 runs: 5\n",
      "Filtered N=20 runs: 2\n",
      "Filtered N=50 runs: 1\n",
      "Filtered proof, rd=1 runs: 3\n",
      "Filtered proof, rd=0 runs: 1\n",
      "Filtered proof, depth=2, rd=2 runs: 2\n",
      "Filtered proof, depth2, rd=1 runs: 1\n",
      "Filtered proof, depth2, rd=1 runs: 1\n",
      "Filtered proof, depth2, rd=1 runs: 1\n"
     ]
    }
   ],
   "source": [
    "all_filtered_runs = []\n",
    "\n",
    "eap_acdc_runs = [\n",
    "    run for run in runs \n",
    "    if (run.config.get(\"attr_absolute_val\") == ATTR_ABSOLUTE_VAL) and \n",
    "       (run.summary.get(\"acdc_num_edges\") is not None) and \n",
    "       (run.config.get(\"model_depth\") == MODEL_DEPTH) and \n",
    "       (run.config.get(\"proof_depth\") is PROOF_DEPTH) and \n",
    "       (run.config.get(\"proof_strategy\") == PROOF_STRATEGY) and\n",
    "       (run.config.get(\"num_examples\") == 10)\n",
    "]\n",
    "print(f\"Filtered N=10 runs: {len(eap_acdc_runs)}\")\n",
    "all_filtered_runs.append(eap_acdc_runs)\n",
    "\n",
    "eap_acdc_runs_n20 = [\n",
    "    run for run in runs \n",
    "    if (run.config.get(\"attr_absolute_val\") == ATTR_ABSOLUTE_VAL) and \n",
    "       (run.summary.get(\"acdc_num_edges\") is not None) and \n",
    "       (run.config.get(\"model_depth\") == MODEL_DEPTH) and \n",
    "       (run.config.get(\"proof_depth\") is PROOF_DEPTH) and \n",
    "       (run.config.get(\"proof_strategy\") == PROOF_STRATEGY) and\n",
    "       (run.config.get(\"num_examples\") == 20)\n",
    "]\n",
    "print(f\"Filtered N=20 runs: {len(eap_acdc_runs_n20)}\")\n",
    "all_filtered_runs.append(eap_acdc_runs_n20)\n",
    "\n",
    "eap_acdc_runs_n50 = [\n",
    "    run for run in runs \n",
    "    if (run.config.get(\"attr_absolute_val\") == ATTR_ABSOLUTE_VAL) and \n",
    "       (run.summary.get(\"acdc_num_edges\") is not None) and \n",
    "       (run.config.get(\"model_depth\") == MODEL_DEPTH) and \n",
    "       (run.config.get(\"proof_depth\") is PROOF_DEPTH) and \n",
    "       (run.config.get(\"proof_strategy\") == PROOF_STRATEGY) and\n",
    "       (run.config.get(\"num_examples\") == 50)\n",
    "]\n",
    "print(f\"Filtered N=50 runs: {len(eap_acdc_runs_n50)}\")\n",
    "all_filtered_runs.append(eap_acdc_runs_n50)\n",
    "\n",
    "eap_acdc_runs_proof = [\n",
    "    run for run in runs \n",
    "    if (run.config.get(\"attr_absolute_val\") == ATTR_ABSOLUTE_VAL) and \n",
    "       (run.summary.get(\"acdc_num_edges\") is not None) and \n",
    "       (run.config.get(\"model_depth\") == MODEL_DEPTH) and \n",
    "       (run.config.get(\"proof_depth\") == 1) and \n",
    "       (run.config.get(\"proof_strategy\") == 'proof') and\n",
    "       (run.config.get(\"num_examples\") == 20)\n",
    "]\n",
    "print(f\"Filtered proof, rd=1 runs: {len(eap_acdc_runs_proof)}\")\n",
    "all_filtered_runs.append(eap_acdc_runs_proof)\n",
    "\n",
    "eap_acdc_runs_proof_depth0 = [\n",
    "    run for run in runs \n",
    "    if (run.config.get(\"attr_absolute_val\") == ATTR_ABSOLUTE_VAL) and \n",
    "       (run.summary.get(\"acdc_num_edges\") is not None) and \n",
    "       (run.config.get(\"model_depth\") == 0) and \n",
    "       (run.config.get(\"proof_depth\") == 0) and \n",
    "       (run.config.get(\"proof_strategy\") == 'proof') and\n",
    "       (run.config.get(\"num_examples\") == 20)\n",
    "]\n",
    "print(f\"Filtered proof, rd=0 runs: {len(eap_acdc_runs_proof_depth0)}\")\n",
    "all_filtered_runs.append(eap_acdc_runs_proof_depth0)\n",
    "\n",
    "eap_acdc_runs_proof_depth2 = [\n",
    "    run for run in runs \n",
    "    if (run.config.get(\"attr_absolute_val\") == ATTR_ABSOLUTE_VAL) and \n",
    "       (run.summary.get(\"acdc_num_edges\") is not None) and \n",
    "       (run.config.get(\"model_depth\") == 2) and \n",
    "       (run.config.get(\"proof_depth\") == 2) and \n",
    "       (run.config.get(\"proof_strategy\") == 'proof') and\n",
    "       (run.config.get(\"num_examples\") == 20)\n",
    "]\n",
    "print(f\"Filtered proof, depth=2, rd=2 runs: {len(eap_acdc_runs_proof_depth2)}\")\n",
    "all_filtered_runs.append(eap_acdc_runs_proof_depth2)\n",
    "\n",
    "\n",
    "eap_acdc_runs_depth2_proof_depth1 = [\n",
    "    run for run in runs \n",
    "    if (run.config.get(\"attr_absolute_val\") == ATTR_ABSOLUTE_VAL) and \n",
    "       (run.summary.get(\"acdc_num_edges\") is not None) and \n",
    "       (run.config.get(\"model_depth\") == 2) and \n",
    "       (run.config.get(\"proof_depth\") == 1) and \n",
    "       (run.config.get(\"proof_strategy\") == 'proof') and\n",
    "       (run.config.get(\"num_examples\") == 20)\n",
    "]\n",
    "print(f\"Filtered proof, depth2, rd=1 runs: {len(eap_acdc_runs_depth2_proof_depth1)}\")\n",
    "all_filtered_runs.append(eap_acdc_runs_depth2_proof_depth1)\n",
    "\n",
    "eap_acdc_runs_depth2_proof_depth0 = [\n",
    "    run for run in runs \n",
    "    if (run.config.get(\"attr_absolute_val\") == ATTR_ABSOLUTE_VAL) and \n",
    "       (run.summary.get(\"acdc_num_edges\") is not None) and \n",
    "       (run.config.get(\"model_depth\") == 2) and \n",
    "       (run.config.get(\"proof_depth\") == 0) and \n",
    "       (run.config.get(\"proof_strategy\") == 'proof') and\n",
    "       (run.config.get(\"num_examples\") == 20)\n",
    "]\n",
    "print(f\"Filtered proof, depth2, rd=1 runs: {len(eap_acdc_runs_depth2_proof_depth0)}\")\n",
    "all_filtered_runs.append(eap_acdc_runs_depth2_proof_depth0)\n",
    "\n",
    "eap_acdc_runs_depth1_proof_depth0 = [\n",
    "    run for run in runs \n",
    "    if (run.config.get(\"attr_absolute_val\") == ATTR_ABSOLUTE_VAL) and \n",
    "       (run.summary.get(\"acdc_num_edges\") is not None) and \n",
    "       (run.config.get(\"model_depth\") == 1) and \n",
    "       (run.config.get(\"proof_depth\") == 0) and \n",
    "       (run.config.get(\"proof_strategy\") == 'proof') and\n",
    "       (run.config.get(\"num_examples\") == 20)\n",
    "]\n",
    "print(f\"Filtered proof, depth2, rd=1 runs: {len(eap_acdc_runs_depth1_proof_depth0)}\")\n",
    "all_filtered_runs.append(eap_acdc_runs_depth1_proof_depth0)"
   ]
  },
  {
   "cell_type": "code",
   "execution_count": 19,
   "id": "4567e7cd",
   "metadata": {},
   "outputs": [
    {
     "name": "stderr",
     "output_type": "stream",
     "text": [
      "Processing run groups:   0%|          | 0/9 [00:00<?, ?it/s]"
     ]
    },
    {
     "name": "stderr",
     "output_type": "stream",
     "text": [
      "Processing run groups: 100%|██████████| 9/9 [00:05<00:00,  1.77it/s]"
     ]
    },
    {
     "name": "stdout",
     "output_type": "stream",
     "text": [
      "Downloaded 17 images to C:\\Users\\andre\\Documents\\School\\Hoger\\Masterproef\\Results\\EAP experiment\\full_circuits\\all_circuits\n",
      "Configuration data collected for 17 runs\n"
     ]
    },
    {
     "name": "stderr",
     "output_type": "stream",
     "text": [
      "\n"
     ]
    }
   ],
   "source": [
    "import os\n",
    "import requests\n",
    "from tqdm import tqdm\n",
    "\n",
    "# Create a directory to save the images\n",
    "save_dir = r\"C:\\Users\\andre\\Documents\\School\\Hoger\\Masterproef\\Results\\EAP experiment\\full_circuits\\all_circuits\"  # Change this to your preferred directory\n",
    "os.makedirs(save_dir, exist_ok=True)\n",
    "\n",
    "# Initialize a list to store the config information\n",
    "configs = []\n",
    "\n",
    "# Process each group of runs\n",
    "for i, runs_group in enumerate(tqdm(all_filtered_runs, desc=\"Processing run groups\")):\n",
    "    for j, run in enumerate(tqdm(runs_group, desc=f\"Processing runs in group {i+1}\", leave=False)):\n",
    "        # Extract config values\n",
    "        model_depth = run.config.get(\"model_depth\")\n",
    "        proof_depth = run.config.get(\"proof_depth\")\n",
    "        proof_strategy = run.config.get(\"proof_strategy\")\n",
    "        num_examples = run.config.get(\"num_examples\")\n",
    "        \n",
    "        \n",
    "        # Get the ACDC graph file URL if it exists\n",
    "        if \"acdc_graph\" in run.summary:\n",
    "            acdc_graph_path = run.summary.get(\"acdc_graph\").get(\"path\")\n",
    "            image_file = run.files(names=[acdc_graph_path])\n",
    "            image_file = image_file[0] if image_file else None\n",
    "            # print(image_file)\n",
    "            image_file.download(root=save_dir, exist_ok=True)\n",
    "            # Create a unique filename based on run configuration\n",
    "            filename = f\"{run.id}_modeldepth-{model_depth}_reasoningdepth-{proof_depth}_proofstrategy-{proof_strategy}_n-{num_examples}.png\"\n",
    "            filepath = os.path.join(save_dir, filename)\n",
    "\n",
    "            # Rename the downloaded file\n",
    "            downloaded_path = os.path.join(save_dir, acdc_graph_path)\n",
    "            if os.path.exists(downloaded_path):\n",
    "                os.rename(downloaded_path, filepath)\n",
    "                \n",
    "                # Add config info to the list\n",
    "                configs.append({\n",
    "                    \"run_id\": run.id,\n",
    "                    \"model_depth\": model_depth,\n",
    "                    \"proof_depth\": proof_depth,\n",
    "                    \"proof_strategy\": proof_strategy,\n",
    "                    \"num_examples\": num_examples,\n",
    "                    \"image_path\": filepath\n",
    "                })\n",
    "            else:\n",
    "                print(f\"Downloaded file not found at {downloaded_path}\")\n",
    "        else:\n",
    "            print(f\"No ACDC graph in summary for run {run.id}\")\n",
    "\n",
    "print(f\"Downloaded {len(configs)} images to {save_dir}\")\n",
    "print(f\"Configuration data collected for {len(configs)} runs\")"
   ]
  }
 ],
 "metadata": {
  "kernelspec": {
   "display_name": "Python 3",
   "language": "python",
   "name": "python3"
  },
  "language_info": {
   "codemirror_mode": {
    "name": "ipython",
    "version": 3
   },
   "file_extension": ".py",
   "mimetype": "text/x-python",
   "name": "python",
   "nbconvert_exporter": "python",
   "pygments_lexer": "ipython3",
   "version": "3.9.20"
  }
 },
 "nbformat": 4,
 "nbformat_minor": 5
}
